{
 "cells": [
  {
   "cell_type": "code",
   "execution_count": null,
   "metadata": {},
   "outputs": [],
   "source": [
    "import requests\n",
    "import json\n",
    "import pprint"
   ]
  },
  {
   "cell_type": "code",
   "execution_count": null,
   "metadata": {
    "scrolled": true
   },
   "outputs": [],
   "source": [
    "helpme = requests.get('http://127.0.0.1:8000/apps/gldas/api/help')\n",
    "pprint.pprint(json.loads(helpme.text))"
   ]
  },
  {
   "cell_type": "code",
   "execution_count": null,
   "metadata": {},
   "outputs": [],
   "source": [
    "time_options = requests.get('http://127.0.0.1:8000/apps/gldas/api/timeOptions')\n",
    "pprint.pprint(json.loads(time_options.text))"
   ]
  },
  {
   "cell_type": "code",
   "execution_count": null,
   "metadata": {},
   "outputs": [],
   "source": [
    "var_options = requests.get('http://127.0.0.1:8000/apps/gldas/api/variableOptions')\n",
    "pprint.pprint(json.loads(var_options.text))"
   ]
  },
  {
   "cell_type": "code",
   "execution_count": null,
   "metadata": {},
   "outputs": [],
   "source": [
    "geom_options = requests.get('http://127.0.0.1:8000/apps/gldas/api/geometryOptions')\n",
    "pprint.pprint(json.loads(geom_options.text))"
   ]
  },
  {
   "cell_type": "code",
   "execution_count": null,
   "metadata": {},
   "outputs": [],
   "source": [
    "point_parameters = {\n",
    "    'time': '2010s',\n",
    "    'variable': 'Tair_f_inst',\n",
    "    'loc_type': 'Point',\n",
    "    'coords': [-45, 45],\n",
    "}\n",
    "polygon_parameters = {\n",
    "    'time': '2000s',\n",
    "    'variable': 'Tair_f_inst',\n",
    "    'loc_type': 'Polygon',\n",
    "    'coords': [-115, -105, 40, 50],\n",
    "}\n",
    "vectorgeometry_parameters = {\n",
    "    'time': '1990s',\n",
    "    'variable': 'Tair_f_inst',\n",
    "    'loc_type': 'VectorGeometry',\n",
    "    'region': 'Italy',\n",
    "}"
   ]
  },
  {
   "cell_type": "code",
   "execution_count": null,
   "metadata": {},
   "outputs": [],
   "source": [
    "timeseries_polygon = requests.get('http://127.0.0.1:8000/apps/gldas/api/timeseries', params=polygon_parameters)\n",
    "print(timeseries_polygon.text)"
   ]
  },
  {
   "cell_type": "code",
   "execution_count": null,
   "metadata": {},
   "outputs": [],
   "source": [
    "timeseries_point = requests.get('http://127.0.0.1:8000/apps/gldas/api/timeseries', params=polygon_parameters)\n",
    "print(timeseries_point.text)"
   ]
  },
  {
   "cell_type": "code",
   "execution_count": null,
   "metadata": {},
   "outputs": [],
   "source": [
    "timeseries_vector = requests.get('http://127.0.0.1:8000/apps/gldas/api/timeseries', params=vectorgeometry_parameters)\n",
    "print(timeseries_vector.text)"
   ]
  },
  {
   "cell_type": "code",
   "execution_count": null,
   "metadata": {},
   "outputs": [],
   "source": []
  }
 ],
 "metadata": {
  "kernelspec": {
   "display_name": "Python 3",
   "language": "python",
   "name": "python3"
  },
  "language_info": {
   "codemirror_mode": {
    "name": "ipython",
    "version": 3
   },
   "file_extension": ".py",
   "mimetype": "text/x-python",
   "name": "python",
   "nbconvert_exporter": "python",
   "pygments_lexer": "ipython3",
   "version": "3.6.7"
  }
 },
 "nbformat": 4,
 "nbformat_minor": 1
}
