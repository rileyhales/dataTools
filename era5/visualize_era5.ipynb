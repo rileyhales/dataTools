{
 "cells": [
  {
   "cell_type": "code",
   "execution_count": 1,
   "metadata": {},
   "outputs": [],
   "source": [
    "import plotly\n",
    "import netCDF4\n",
    "import os"
   ]
  },
  {
   "cell_type": "code",
   "execution_count": 2,
   "metadata": {},
   "outputs": [],
   "source": [
    "path_to_era5_output = '/Users/rileyhales/era5sampledata/sampledata/africa-geoglows/Qout_era5_t640_1hr_19790101to20181231.nc'\n",
    "path_to_aggregated_era5 = '/Users/rileyhales/era5sampledata/sampledata/africa-geoglows/Aggregated_Qout.nc4'"
   ]
  },
  {
   "cell_type": "code",
   "execution_count": 3,
   "metadata": {},
   "outputs": [],
   "source": [
    "original_data = netCDF4.Dataset(path_to_era5_output, mode='r')\n",
    "#aggregated_data = netCDF4.Dataset(path_to_aggregated_era5, mode='r')"
   ]
  },
  {
   "cell_type": "code",
   "execution_count": 4,
   "metadata": {},
   "outputs": [
    {
     "data": {
      "text/plain": [
       "masked_array(data=[ 0.        ,  0.        ,  0.        , ...,\n",
       "                   -0.00023675,  0.00140413,  0.00039891],\n",
       "             mask=False,\n",
       "       fill_value=1e+20,\n",
       "            dtype=float32)"
      ]
     },
     "execution_count": 4,
     "metadata": {},
     "output_type": "execute_result"
    }
   ],
   "source": [
    "original_data['Qout'][:,1]"
   ]
  },
  {
   "cell_type": "code",
   "execution_count": null,
   "metadata": {},
   "outputs": [],
   "source": [
    "meanplot = go.Scatter(\n",
    "        name='Original Data',\n",
    "        x=original_data['Qout']\n",
    "        y=plot_data['mean'],\n",
    "        line=dict(color='blue'),\n",
    "    )\n",
    "    maxplot = go.Scatter(\n",
    "        name='Max',\n",
    "        x=plot_data['x_ensembles'],\n",
    "        y=plot_data['max'],\n",
    "        fill='tonexty',\n",
    "        mode='lines',\n",
    "        line=dict(color='rgb(152, 251, 152)', width=0)\n",
    "    )\n",
    "    minplot = go.Scatter(\n",
    "        name='Min',\n",
    "        x=plot_data['x_ensembles'],\n",
    "        y=plot_data['min'],\n",
    "        fill=None,\n",
    "        mode='lines',\n",
    "        line=dict(color='rgb(152, 251, 152)')\n",
    "    )\n",
    "    stdlowplot = go.Scatter(\n",
    "        name='Std. Dev. Lower',\n",
    "        x=plot_data['x_ensembles'],\n",
    "        y=plot_data['stdlow'],\n",
    "        fill='tonexty',\n",
    "        mode='lines',\n",
    "        line=dict(color='rgb(152, 251, 152)', width=0)\n",
    "    )\n",
    "    stdupplot = go.Scatter(\n",
    "        name='Std. Dev. Upper',\n",
    "        x=plot_data['x_ensembles'],\n",
    "        y=plot_data['stdup'],\n",
    "        fill='tonexty',\n",
    "        mode='lines',\n",
    "        line={'width': 0, 'color': 'rgb(34, 139, 34)'}\n",
    "    )\n",
    "    hires = go.Scatter(\n",
    "        name='Higher Resolution',\n",
    "        x=plot_data['x_hires'],\n",
    "        y=plot_data['hires'],\n",
    "        line={'color': 'black'}\n",
    "    )\n",
    "    layout = go.Layout(\n",
    "        title=__build_title('Forecasted Streamflow', reach_id, drain_area),\n",
    "        xaxis={'title': 'Date'},\n",
    "        yaxis={\n",
    "            'title': 'Streamflow (m<sup>3</sup>/s)',\n",
    "            'range': [0, 1.2 * plot_data['y_max']]\n",
    "        },\n",
    "        shapes=__rperiod_shapes(\n",
    "            startdate, enddate, plot_data['r2'], plot_data['r10'], plot_data['r20'], plot_data['y_max'])\n",
    "    )\n",
    "    figure = go.Figure([minplot, stdlowplot, stdupplot, maxplot, meanplot, hires], layout=layout)"
   ]
  }
 ],
 "metadata": {
  "kernelspec": {
   "display_name": "Python 3",
   "language": "python",
   "name": "python3"
  },
  "language_info": {
   "codemirror_mode": {
    "name": "ipython",
    "version": 3
   },
   "file_extension": ".py",
   "mimetype": "text/x-python",
   "name": "python",
   "nbconvert_exporter": "python",
   "pygments_lexer": "ipython3",
   "version": "3.6.7"
  }
 },
 "nbformat": 4,
 "nbformat_minor": 2
}
