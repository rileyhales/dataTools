{
 "cells": [
  {
   "cell_type": "code",
   "execution_count": null,
   "metadata": {},
   "outputs": [],
   "source": [
    "import xarray\n",
    "import numpy\n",
    "import datetime\n",
    "import plotly.graph_objs as go"
   ]
  },
  {
   "cell_type": "code",
   "execution_count": null,
   "metadata": {},
   "outputs": [],
   "source": [
    "eint_file = '/Users/rileyhales/Downloads/Qout_erai_t511_24hr_19800101to20141231.nc'\n",
    "era5_file = '/Users/rileyhales/Downloads/Aggregated_Qout.nc4'\n",
    "eint_xar = xarray.open_dataset(eint_file)\n",
    "era5_xar = xarray.open_dataset(era5_file)"
   ]
  },
  {
   "cell_type": "code",
   "execution_count": null,
   "metadata": {},
   "outputs": [],
   "source": [
    "# check for rivid's with\n",
    "# print(eint_xar.variables['rivid'])\n",
    "# print(era5_xar.variables['rivid'])\n",
    "rivid = 7055310"
   ]
  },
  {
   "cell_type": "code",
   "execution_count": null,
   "metadata": {},
   "outputs": [],
   "source": [
    "eint_arr = numpy.asarray(eint_xar.sel(rivid=rivid).Qout)\n",
    "e5_min = numpy.asarray(era5_xar.sel(rivid=rivid).Qout_min)\n",
    "e5_mean = numpy.asarray(era5_xar.sel(rivid=rivid).Qout_mean)\n",
    "e5_max = numpy.asarray(era5_xar.sel(rivid=rivid).Qout_max)"
   ]
  },
  {
   "cell_type": "code",
   "execution_count": null,
   "metadata": {},
   "outputs": [],
   "source": [
    "eint_start = datetime.datetime(year=1980, month=1, day=1)\n",
    "e5_start = datetime.datetime(year=1979, month=1, day=1)\n",
    "e5_times = [e5_start + datetime.timedelta(days=i) for i in range(numpy.asarray(era5_xar.variables['time']).shape[0])]\n",
    "eint_times = [eint_start + datetime.timedelta(days=i) for i in range(numpy.asarray(eint_xar.variables['time']).shape[0])]"
   ]
  },
  {
   "cell_type": "code",
   "execution_count": null,
   "metadata": {},
   "outputs": [],
   "source": [
    "new_scatter_min = go.Scatter(\n",
    "    name='ERA5 min',\n",
    "    x=e5_times,\n",
    "    y=list(e5_min),\n",
    "    line={'color': 'yellow'}\n",
    ")\n",
    "new_scatter_mean = go.Scatter(\n",
    "    name='ERA5 mean',\n",
    "    x=e5_times,\n",
    "    y=list(e5_mean),\n",
    "    line={'color': 'black'}\n",
    ")\n",
    "new_scatter_max = go.Scatter(\n",
    "    name='ERA5 max',\n",
    "    x=e5_times,\n",
    "    y=list(e5_max),\n",
    "    line={'color': 'blue'}\n",
    ")\n",
    "old_scatter = go.Scatter(\n",
    "    name='ERA Interim',\n",
    "    x=eint_times,\n",
    "    y=list(eint_arr),\n",
    "    line={'color': 'red'}\n",
    ")\n",
    "layout = go.Layout(\n",
    "    title='Aggregation Comparison',\n",
    "    # a good range for nam_clearwater\n",
    "    xaxis={'title': 'Date'},\n",
    "    # a good range for sam_putumuaya\n",
    "#     xaxis={'title': 'Date', 'range': [130000, 140000]},\n",
    "    yaxis={'title': 'Streamflow (m<sup>3</sup>/s)'},\n",
    ")"
   ]
  },
  {
   "cell_type": "code",
   "execution_count": null,
   "metadata": {
    "scrolled": false
   },
   "outputs": [],
   "source": [
    "figure = go.Figure((new_scatter_min, new_scatter_mean, new_scatter_max, old_scatter), layout=layout)\n",
    "figure.show()"
   ]
  },
  {
   "cell_type": "code",
   "execution_count": null,
   "metadata": {},
   "outputs": [],
   "source": []
  }
 ],
 "metadata": {
  "kernelspec": {
   "display_name": "Python 3",
   "language": "python",
   "name": "python3"
  },
  "language_info": {
   "codemirror_mode": {
    "name": "ipython",
    "version": 3
   },
   "file_extension": ".py",
   "mimetype": "text/x-python",
   "name": "python",
   "nbconvert_exporter": "python",
   "pygments_lexer": "ipython3",
   "version": "3.6.7"
  },
  "pycharm": {
   "stem_cell": {
    "cell_type": "raw",
    "metadata": {
     "collapsed": false
    },
    "source": []
   }
  }
 },
 "nbformat": 4,
 "nbformat_minor": 2
}
