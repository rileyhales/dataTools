{
 "cells": [
  {
   "cell_type": "code",
   "execution_count": null,
   "metadata": {},
   "outputs": [],
   "source": [
    "import xarray\n",
    "import numpy\n",
    "import plotly.graph_objs as go"
   ]
  },
  {
   "cell_type": "code",
   "execution_count": null,
   "metadata": {},
   "outputs": [],
   "source": [
    "oldfilepath = '/Users/rileyhales/era5rapid/nam_clearwater/Qout_era5_t640_1hr_19790101to20181231.nc'\n",
    "newfilepath = '/Users/rileyhales/era5rapid/nam_clearwater/DailyAggregated_Qout_era5_t640_1hr_19790101to20181231.nc4'\n",
    "# oldfilepath = '/Users/rileyhales/era5rapid/sam_putumuayo/Qout_era5_t640_1hr_19790101to20181231.nc'\n",
    "# newfilepath = '/Users/rileyhales/era5rapid/sam_putumuayo/DailyAggregated_Qout_era5_t640_1hr_19790101to20181231.nc4'\n",
    "old_xar = xarray.open_dataset(oldfilepath)\n",
    "new_xar = xarray.open_dataset(newfilepath)"
   ]
  },
  {
   "cell_type": "code",
   "execution_count": null,
   "metadata": {},
   "outputs": [],
   "source": [
    "# check for rivid's with\n",
    "# new_xar.variables['rivid']\n",
    "\n",
    "# nam_clearwater\n",
    "rivid = 85154\n",
    "\n",
    "# sam_putumuayo\n",
    "# rivid = 141092"
   ]
  },
  {
   "cell_type": "code",
   "execution_count": null,
   "metadata": {},
   "outputs": [],
   "source": [
    "oldarr = numpy.asarray(old_xar.sel(rivid=rivid).Qout)\n",
    "newarrmin = numpy.asarray(new_xar.sel(rivid=rivid).Qout_min)\n",
    "newarrmean = numpy.asarray(new_xar.sel(rivid=rivid).Qout_mean)\n",
    "newarrmax = numpy.asarray(new_xar.sel(rivid=rivid).Qout_max)"
   ]
  },
  {
   "cell_type": "code",
   "execution_count": null,
   "metadata": {},
   "outputs": [],
   "source": [
    "x_new = [i * 24 for i in list(numpy.asarray(new_xar.variables['time']))]\n",
    "x_old = list(range(24 * len(x_new)))"
   ]
  },
  {
   "cell_type": "code",
   "execution_count": null,
   "metadata": {},
   "outputs": [],
   "source": [
    "new_scatter_min = go.Scatter(\n",
    "    name='new_data_min',\n",
    "    x=x_new,\n",
    "    y=list(newarrmin),\n",
    "    line={'color': 'yellow'}\n",
    ")\n",
    "new_scatter_mean = go.Scatter(\n",
    "    name='new_data_mean',\n",
    "    x=x_new,\n",
    "    y=list(newarrmean),\n",
    "    line={'color': 'black'}\n",
    ")\n",
    "new_scatter_max = go.Scatter(\n",
    "    name='new_data_max',\n",
    "    x=x_new,\n",
    "    y=list(newarrmax),\n",
    "    line={'color': 'blue'}\n",
    ")\n",
    "old_scatter = go.Scatter(\n",
    "    name='old_data',\n",
    "    x=x_old,\n",
    "    y=list(oldarr),\n",
    "    line={'color': 'red'}\n",
    ")\n",
    "layout = go.Layout(\n",
    "    title='Aggregation Comparison',\n",
    "    # a good range for nam_clearwater\n",
    "    xaxis={'title': 'Date', 'range': [10000, 15000]},\n",
    "    # a good range for sam_putumuaya\n",
    "#     xaxis={'title': 'Date', 'range': [130000, 140000]},\n",
    "    yaxis={'title': 'Streamflow (m<sup>3</sup>/s)'},\n",
    ")"
   ]
  },
  {
   "cell_type": "code",
   "execution_count": null,
   "metadata": {
    "scrolled": false
   },
   "outputs": [],
   "source": [
    "figure = go.Figure((new_scatter_min, new_scatter_mean, new_scatter_max, old_scatter), layout=layout)\n",
    "figure.show()"
   ]
  },
  {
   "cell_type": "code",
   "execution_count": null,
   "metadata": {},
   "outputs": [],
   "source": []
  }
 ],
 "metadata": {
  "kernelspec": {
   "display_name": "Python 3",
   "language": "python",
   "name": "python3"
  },
  "language_info": {
   "codemirror_mode": {
    "name": "ipython",
    "version": 3
   },
   "file_extension": ".py",
   "mimetype": "text/x-python",
   "name": "python",
   "nbconvert_exporter": "python",
   "pygments_lexer": "ipython3",
   "version": "3.6.7"
  }
 },
 "nbformat": 4,
 "nbformat_minor": 2
}
