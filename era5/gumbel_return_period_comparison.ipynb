{
 "cells": [
  {
   "cell_type": "code",
   "execution_count": null,
   "metadata": {},
   "outputs": [],
   "source": [
    "import xarray\n",
    "import numpy\n",
    "import plotly.graph_objs as go"
   ]
  },
  {
   "cell_type": "code",
   "execution_count": null,
   "metadata": {},
   "outputs": [],
   "source": [
    "weibulpath = '/Users/rileyhales/Downloads/era5samplefiles/nam_clearwater/return_periods_era5_t640_1hr_19790101to20181231.nc'\n",
    "gumbelpath = '/Users/rileyhales/Downloads/era5samplefiles/nam_clearwater/return_periods.nc4'\n",
    "weibxar = xarray.open_dataset(weibulpath)\n",
    "gumbxar = xarray.open_dataset(gumbelpath)"
   ]
  },
  {
   "cell_type": "code",
   "execution_count": null,
   "metadata": {},
   "outputs": [],
   "source": [
    "rivid = 85154"
   ]
  },
  {
   "cell_type": "code",
   "execution_count": null,
   "metadata": {},
   "outputs": [],
   "source": [
    "wb20 = weibxar.sel(rivid=rivid).return_period_20\n",
    "wb10 = weibxar.sel(rivid=rivid).return_period_10\n",
    "wb2 = weibxar.sel(rivid=rivid).return_period_2"
   ]
  },
  {
   "cell_type": "code",
   "execution_count": null,
   "metadata": {},
   "outputs": [],
   "source": [
    "gb100 = gumbxar.sel(rivid=rivid).r100\n",
    "gb50 = gumbxar.sel(rivid=rivid).r50\n",
    "gb25 = gumbxar.sel(rivid=rivid).r25\n",
    "gb20 = gumbxar.sel(rivid=rivid).r20\n",
    "gb10 = gumbxar.sel(rivid=rivid).r10\n",
    "gb2 = gumbxar.sel(rivid=rivid).r2"
   ]
  },
  {
   "cell_type": "code",
   "execution_count": null,
   "metadata": {},
   "outputs": [],
   "source": [
    "print(gb100.data)\n",
    "print(gb50.data)\n",
    "print(gb25.data)\n",
    "print(gb20.data)\n",
    "print(gb10.data)\n",
    "print(gb2.data)"
   ]
  },
  {
   "cell_type": "code",
   "execution_count": null,
   "metadata": {},
   "outputs": [],
   "source": [
    "print(wb20.data)\n",
    "print(wb10.data)\n",
    "print(wb2.data)"
   ]
  },
  {
   "cell_type": "code",
   "execution_count": null,
   "metadata": {},
   "outputs": [],
   "source": []
  }
 ],
 "metadata": {
  "kernelspec": {
   "display_name": "Python 3",
   "language": "python",
   "name": "python3"
  },
  "language_info": {
   "codemirror_mode": {
    "name": "ipython",
    "version": 3
   },
   "file_extension": ".py",
   "mimetype": "text/x-python",
   "name": "python",
   "nbconvert_exporter": "python",
   "pygments_lexer": "ipython3",
   "version": "3.8.0"
  }
 },
 "nbformat": 4,
 "nbformat_minor": 2
}
